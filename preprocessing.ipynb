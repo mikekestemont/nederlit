{
 "cells": [
  {
   "cell_type": "markdown",
   "metadata": {},
   "source": [
    "# Preprocess"
   ]
  },
  {
   "cell_type": "code",
   "execution_count": 1,
   "metadata": {},
   "outputs": [],
   "source": [
    "import shutil\n",
    "import os\n",
    "import glob\n",
    "import random\n",
    "\n",
    "rnd_seed = 1234\n",
    "random.seed(rnd_seed)\n",
    "\n",
    "from tqdm import tqdm\n",
    "import spacy"
   ]
  },
  {
   "cell_type": "code",
   "execution_count": 2,
   "metadata": {},
   "outputs": [],
   "source": [
    "def clean_dir(dirname):\n",
    "    try:\n",
    "        shutil.rmtree(dirname)\n",
    "    except FileNotFoundError:\n",
    "        pass\n",
    "    os.mkdir(dirname)\n",
    "\n",
    "clean_dir('tagged')"
   ]
  },
  {
   "cell_type": "code",
   "execution_count": 3,
   "metadata": {},
   "outputs": [],
   "source": [
    "allowed = set('ADJ NOUN VERB'.split())"
   ]
  },
  {
   "cell_type": "code",
   "execution_count": 4,
   "metadata": {},
   "outputs": [],
   "source": [
    "nlp = spacy.load('nl', disable=['parser', 'ner'])\n",
    "nlp.max_length = 10000000"
   ]
  },
  {
   "cell_type": "code",
   "execution_count": 5,
   "metadata": {},
   "outputs": [],
   "source": [
    "def preprocess(indir, outdir, max_num=None):\n",
    "    clean_dir(outdir)\n",
    "    \n",
    "    f_ins = list(glob.glob(f'{indir}/*.txt'))\n",
    "    if max_num:\n",
    "        random.shuffle(f_ins)\n",
    "        f_ins = f_ins[:max_num]\n",
    "    \n",
    "    for f_in in tqdm(f_ins):\n",
    "        with open(f_in) as f:\n",
    "            text = f.read()\n",
    "        tokens = nlp(text)\n",
    "        if not tokens:\n",
    "            continue\n",
    "        new_fn = f'{outdir}/{os.path.basename(f_in)}'\n",
    "        with open(new_fn, 'w') as f:\n",
    "            for t in tokens:\n",
    "                if t.pos_ in allowed and t.is_alpha and not t.is_stop:\n",
    "                    f.write(t.text.lower() + ' ')"
   ]
  },
  {
   "cell_type": "code",
   "execution_count": 6,
   "metadata": {},
   "outputs": [
    {
     "name": "stderr",
     "output_type": "stream",
     "text": [
      "100%|██████████| 483/483 [35:31<00:00,  4.41s/it] \n"
     ]
    }
   ],
   "source": [
    "preprocess(indir='data/orig/Oorlogsromans',\n",
    "           outdir='data/tagged/oorlog',\n",
    "           max_num=None)"
   ]
  },
  {
   "cell_type": "code",
   "execution_count": null,
   "metadata": {},
   "outputs": [
    {
     "name": "stderr",
     "output_type": "stream",
     "text": [
      " 15%|█▌        | 171/1105 [14:11<1:20:52,  5.20s/it]"
     ]
    }
   ],
   "source": [
    "preprocess(indir='data/orig/Streekromans',\n",
    "           outdir='data/tagged/streek',\n",
    "           max_num=None)"
   ]
  },
  {
   "cell_type": "code",
   "execution_count": null,
   "metadata": {},
   "outputs": [],
   "source": []
  }
 ],
 "metadata": {
  "kernelspec": {
   "display_name": "Python (n36)",
   "language": "python",
   "name": "n36"
  },
  "language_info": {
   "codemirror_mode": {
    "name": "ipython",
    "version": 3
   },
   "file_extension": ".py",
   "mimetype": "text/x-python",
   "name": "python",
   "nbconvert_exporter": "python",
   "pygments_lexer": "ipython3",
   "version": "3.6.10"
  }
 },
 "nbformat": 4,
 "nbformat_minor": 4
}
